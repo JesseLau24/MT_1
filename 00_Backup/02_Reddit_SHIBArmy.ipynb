{
 "cells": [
  {
   "cell_type": "code",
   "execution_count": 2,
   "id": "40f4bf5d",
   "metadata": {},
   "outputs": [
    {
     "name": "stdout",
     "output_type": "stream",
     "text": [
      "🔍 正在查找 2025-02-20 当天的全部帖子...\n",
      "✅ 找到 2 篇帖子\n",
      "📁 已保存至：SHIBArmy_Posts/SHIBArmy_comments_2025-02-20.csv（共 47 条评论）\n"
     ]
    }
   ],
   "source": [
    "import praw\n",
    "import pandas as pd\n",
    "import os\n",
    "import time\n",
    "from datetime import datetime, timezone, timedelta\n",
    "\n",
    "# 设置 Reddit API 凭证\n",
    "reddit = praw.Reddit(\n",
    "    client_id='Gd_KhZrVZVO79ou3LG_vVw',\n",
    "    client_secret='-X_P63zpKewLKEreQJWXm2fFXjY1Ew',\n",
    "    user_agent='reddit-crawler by /u/alpaca_1'\n",
    ")\n",
    "\n",
    "# === 参数设置 ===\n",
    "subreddit_name = \"SHIBArmy\"           # 子版块名称\n",
    "target_date = datetime(2025, 2, 20)             # 目标日期\n",
    "next_date = target_date + timedelta(days=1)\n",
    "\n",
    "start_timestamp = int(target_date.timestamp())\n",
    "end_timestamp = int(next_date.timestamp())\n",
    "\n",
    "# === 确保输出文件夹存在 ===\n",
    "output_folder = \"SHIBArmy_Posts\"\n",
    "os.makedirs(output_folder, exist_ok=True)\n",
    "\n",
    "# === 收集帖子 ID ===\n",
    "subreddit = reddit.subreddit(subreddit_name)\n",
    "post_ids = []\n",
    "\n",
    "print(f\"🔍 正在查找 {target_date.date()} 当天的全部帖子...\")\n",
    "for submission in subreddit.new(limit=None):  # 获取最新帖子\n",
    "    if start_timestamp <= submission.created_utc < end_timestamp:\n",
    "        post_ids.append(submission.id)\n",
    "\n",
    "print(f\"✅ 找到 {len(post_ids)} 篇帖子\")\n",
    "\n",
    "# === 抓取评论 ===\n",
    "rows = []\n",
    "\n",
    "for pid in post_ids:\n",
    "    try:\n",
    "        submission = reddit.submission(id=pid)\n",
    "        submission.comments.replace_more(limit=0)\n",
    "        for comment in submission.comments.list():\n",
    "            rows.append({\n",
    "                \"post_id\": pid,\n",
    "                \"author\": str(comment.author) if comment.author else \"N/A\",\n",
    "                \"body\": comment.body.replace(\"\\n\", \" \"),\n",
    "                \"score\": comment.score,\n",
    "                \"created_utc\": comment.created_utc,\n",
    "                \"date\": datetime.fromtimestamp(comment.created_utc, tz=timezone.utc).strftime('%Y-%m-%d %H:%M:%S')\n",
    "            })\n",
    "        time.sleep(1)\n",
    "    except Exception as e:\n",
    "        print(f\"⚠️ 无法抓取帖子 {pid} 的评论: {e}\")\n",
    "        continue\n",
    "\n",
    "# === 保存为 CSV（字段顺序固定）===\n",
    "df = pd.DataFrame(rows, columns=[\"post_id\", \"author\", \"body\", \"score\", \"created_utc\", \"date\"])\n",
    "output_filename = os.path.join(output_folder, f\"SHIBArmy_comments_{target_date.date()}.csv\")\n",
    "df.to_csv(output_filename, index=False, encoding=\"utf-8\")\n",
    "print(f\"📁 已保存至：{output_filename}（共 {len(df)} 条评论）\")"
   ]
  }
 ],
 "metadata": {
  "kernelspec": {
   "display_name": "reddit",
   "language": "python",
   "name": "python3"
  },
  "language_info": {
   "codemirror_mode": {
    "name": "ipython",
    "version": 3
   },
   "file_extension": ".py",
   "mimetype": "text/x-python",
   "name": "python",
   "nbconvert_exporter": "python",
   "pygments_lexer": "ipython3",
   "version": "3.12.3"
  }
 },
 "nbformat": 4,
 "nbformat_minor": 5
}
