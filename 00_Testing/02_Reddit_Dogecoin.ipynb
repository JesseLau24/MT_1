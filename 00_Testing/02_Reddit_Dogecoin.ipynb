{
 "cells": [
  {
   "cell_type": "code",
   "execution_count": 14,
   "id": "b49a1832",
   "metadata": {},
   "outputs": [
    {
     "name": "stdout",
     "output_type": "stream",
     "text": [
      "🔍 找到 23 篇 2025-04-23 当天的包含 'dogecoin' 的帖子\n"
     ]
    },
    {
     "name": "stderr",
     "output_type": "stream",
     "text": [
      "/tmp/ipykernel_15362/2738652854.py:48: DeprecationWarning: datetime.datetime.utcfromtimestamp() is deprecated and scheduled for removal in a future version. Use timezone-aware objects to represent datetimes in UTC: datetime.datetime.fromtimestamp(timestamp, datetime.UTC).\n",
      "  \"date\": datetime.utcfromtimestamp(comment.created_utc).strftime('%Y-%m-%d %H:%M:%S')\n"
     ]
    },
    {
     "name": "stdout",
     "output_type": "stream",
     "text": [
      "✅ 已保存评论至 dogecoin_comments_2025-04-23.csv，共 318 条\n"
     ]
    }
   ],
   "source": [
    "import praw\n",
    "import pandas as pd\n",
    "from datetime import datetime, timedelta\n",
    "import time\n",
    "\n",
    "# 设置 Reddit API 凭证\n",
    "reddit = praw.Reddit(\n",
    "    client_id='Gd_KhZrVZVO79ou3LG_vVw',\n",
    "    client_secret='-X_P63zpKewLKEreQJWXm2fFXjY1Ew',\n",
    "    user_agent='reddit-crawler by /u/alpaca_1'\n",
    ")\n",
    "\n",
    "# === 参数设置 ===\n",
    "subreddit_name = \"dogecoin\"\n",
    "query = \"dogecoin\"\n",
    "target_date = datetime(2025, 4, 23)  # 替换为你想要的日期\n",
    "next_date = target_date + timedelta(days=1)\n",
    "\n",
    "# 将目标时间转换为 UTC 时间戳\n",
    "start_timestamp = int(target_date.timestamp())\n",
    "end_timestamp = int(next_date.timestamp())\n",
    "\n",
    "# === 收集帖子 ID ===\n",
    "subreddit = reddit.subreddit(subreddit_name)\n",
    "post_ids = []\n",
    "\n",
    "# 使用 subreddit.search + 时间限制进行搜索\n",
    "for submission in subreddit.search(query, sort=\"new\", time_filter=\"all\", limit=None):\n",
    "    if start_timestamp <= submission.created_utc < end_timestamp:\n",
    "        post_ids.append(submission.id)\n",
    "\n",
    "print(f\"🔍 找到 {len(post_ids)} 篇 {target_date.date()} 当天的包含 'dogecoin' 的帖子\")\n",
    "\n",
    "# === 抓取评论并写入 DataFrame ===\n",
    "rows = []\n",
    "\n",
    "for pid in post_ids:\n",
    "    try:\n",
    "        submission = reddit.submission(id=pid)\n",
    "        submission.comments.replace_more(limit=0)\n",
    "        for comment in submission.comments.list():\n",
    "            rows.append({\n",
    "                \"post_id\": pid,\n",
    "                \"author\": str(comment.author) if comment.author else \"N/A\",\n",
    "                \"body\": comment.body.replace(\"\\n\", \" \"),\n",
    "                \"score\": comment.score,\n",
    "                \"created_utc\": comment.created_utc,\n",
    "                \"date\": datetime.utcfromtimestamp(comment.created_utc).strftime('%Y-%m-%d %H:%M:%S')\n",
    "            })\n",
    "        time.sleep(1)  # 防止被限速\n",
    "    except Exception as e:\n",
    "        print(f\"⚠️ Error fetching comments for post {pid}: {e}\")\n",
    "        continue\n",
    "\n",
    "# === 保存为 CSV ===\n",
    "df = pd.DataFrame(rows, columns=[\"post_id\", \"author\", \"body\", \"score\", \"created_utc\", \"date\"])\n",
    "output_filename = f\"dogecoin_comments_{target_date.date()}.csv\"\n",
    "df.to_csv(output_filename, index=False, encoding=\"utf-8\")\n",
    "print(f\"✅ 已保存评论至 {output_filename}，共 {len(df)} 条\")\n"
   ]
  }
 ],
 "metadata": {
  "kernelspec": {
   "display_name": "reddit",
   "language": "python",
   "name": "python3"
  },
  "language_info": {
   "codemirror_mode": {
    "name": "ipython",
    "version": 3
   },
   "file_extension": ".py",
   "mimetype": "text/x-python",
   "name": "python",
   "nbconvert_exporter": "python",
   "pygments_lexer": "ipython3",
   "version": "3.12.3"
  }
 },
 "nbformat": 4,
 "nbformat_minor": 5
}
