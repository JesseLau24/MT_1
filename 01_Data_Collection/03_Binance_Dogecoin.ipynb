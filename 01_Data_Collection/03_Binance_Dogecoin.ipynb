{
 "cells": [
  {
   "cell_type": "code",
   "execution_count": null,
   "id": "870455be",
   "metadata": {},
   "outputs": [
    {
     "name": "stdout",
     "output_type": "stream",
     "text": [
      "✅ 数据保存至: Dogecoin_Price/Dogecoin_hourly_ohlcv_until_20250502.csv\n",
      "                           open        high         low       close  \\\n",
      "timestamp                                                             \n",
      "2025-05-02 19:00:00  0.18081000  0.18081000  0.17958000  0.18004000   \n",
      "2025-05-02 20:00:00  0.18004000  0.18139000  0.17982000  0.18138000   \n",
      "2025-05-02 21:00:00  0.18138000  0.18242000  0.18056000  0.18091000   \n",
      "2025-05-02 22:00:00  0.18091000  0.18146000  0.18058000  0.18097000   \n",
      "2025-05-02 23:00:00  0.18098000  0.18156000  0.18081000  0.18151000   \n",
      "\n",
      "                                volume  \n",
      "timestamp                               \n",
      "2025-05-02 19:00:00  19832544.00000000  \n",
      "2025-05-02 20:00:00  10205988.00000000  \n",
      "2025-05-02 21:00:00  16349889.00000000  \n",
      "2025-05-02 22:00:00  14023389.00000000  \n",
      "2025-05-02 23:00:00  10773263.00000000  \n"
     ]
    }
   ],
   "source": [
    "from binance.client import Client\n",
    "import pandas as pd\n",
    "from datetime import datetime, timedelta\n",
    "import os\n",
    "\n",
    "# （可选）Binance API Key（可以为空）\n",
    "api_key = ''\n",
    "api_secret = ''\n",
    "\n",
    "client = Client(api_key, api_secret)\n",
    "\n",
    "# === 配置参数 ===\n",
    "symbol = 'DOGEUSDT'  # Dogecoin 的交易对\n",
    "interval = Client.KLINE_INTERVAL_1HOUR\n",
    "\n",
    "# 设置开始和结束时间：从 XXXX-XX-XX 开始，抓取 960 小时（40 天）\n",
    "start_time = datetime(2025, 3, 24)\n",
    "end_time = start_time + timedelta(hours=960)\n",
    "start_str = start_time.strftime('%Y-%m-%d %H:%M:%S')\n",
    "end_str = end_time.strftime('%Y-%m-%d %H:%M:%S')\n",
    "\n",
    "# 获取 K 线数据（最多 1000 条，抓 960 就够）\n",
    "klines = client.get_historical_klines(\n",
    "    symbol=symbol,\n",
    "    interval=interval,\n",
    "    start_str=start_str,\n",
    "    end_str=end_str,\n",
    "    limit=960\n",
    ")\n",
    "\n",
    "# 转换成 DataFrame\n",
    "df = pd.DataFrame(klines, columns=[\n",
    "    \"timestamp\", \"open\", \"high\", \"low\", \"close\", \"volume\",\n",
    "    \"close_time\", \"quote_asset_volume\", \"num_trades\",\n",
    "    \"taker_buy_base\", \"taker_buy_quote\", \"ignore\"\n",
    "])\n",
    "\n",
    "# 处理时间戳 & 保留主列\n",
    "df[\"timestamp\"] = pd.to_datetime(df[\"timestamp\"], unit='ms')\n",
    "df = df[[\"timestamp\", \"open\", \"high\", \"low\", \"close\", \"volume\"]]\n",
    "df.set_index(\"timestamp\", inplace=True)\n",
    "\n",
    "# 获取最后一条记录的日期（UTC）\n",
    "last_date = df.index[-1].strftime(\"%Y%m%d\")\n",
    "\n",
    "# 创建保存目录\n",
    "save_dir = \"Dogecoin_Price\"\n",
    "os.makedirs(save_dir, exist_ok=True)\n",
    "\n",
    "# 文件路径和文件名\n",
    "file_name = f\"Dogecoin_hourly_ohlcv_until_{last_date}.csv\"\n",
    "file_path = os.path.join(save_dir, file_name)\n",
    "\n",
    "# 保存为 CSV 文件\n",
    "df.to_csv(file_path)\n",
    "print(f\"✅ 数据保存至: {file_path}\")\n",
    "print(df.tail())\n"
   ]
  }
 ],
 "metadata": {
  "kernelspec": {
   "display_name": "reddit",
   "language": "python",
   "name": "python3"
  },
  "language_info": {
   "codemirror_mode": {
    "name": "ipython",
    "version": 3
   },
   "file_extension": ".py",
   "mimetype": "text/x-python",
   "name": "python",
   "nbconvert_exporter": "python",
   "pygments_lexer": "ipython3",
   "version": "3.12.3"
  }
 },
 "nbformat": 4,
 "nbformat_minor": 5
}
