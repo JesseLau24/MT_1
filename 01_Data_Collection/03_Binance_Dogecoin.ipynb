{
 "cells": [
  {
   "cell_type": "code",
   "execution_count": 66,
   "id": "58b57754",
   "metadata": {},
   "outputs": [
    {
     "name": "stdout",
     "output_type": "stream",
     "text": [
      "klines 返回了 960 条数据\n",
      "✅ 数据保存至: Dogecoin_Price/Dogecoin_hourly_ohlcv_until_20250206.csv\n",
      "                           open        high         low       close  \\\n",
      "timestamp                                                             \n",
      "2025-02-06 19:00:00  0.24508000  0.24861000  0.24274000  0.24388000   \n",
      "2025-02-06 20:00:00  0.24388000  0.25066000  0.24334000  0.25045000   \n",
      "2025-02-06 21:00:00  0.25045000  0.25051000  0.24604000  0.24878000   \n",
      "2025-02-06 22:00:00  0.24879000  0.25083000  0.24588000  0.25029000   \n",
      "2025-02-06 23:00:00  0.25028000  0.25057000  0.24614000  0.24789000   \n",
      "\n",
      "                                volume  \n",
      "timestamp                               \n",
      "2025-02-06 19:00:00  60047072.00000000  \n",
      "2025-02-06 20:00:00  39430469.00000000  \n",
      "2025-02-06 21:00:00  39187741.00000000  \n",
      "2025-02-06 22:00:00  43246386.00000000  \n",
      "2025-02-06 23:00:00  44042637.00000000  \n"
     ]
    }
   ],
   "source": [
    "from binance.client import Client\n",
    "import pandas as pd\n",
    "from datetime import datetime, timedelta\n",
    "import os\n",
    "import pytz\n",
    "\n",
    "api_key = ''\n",
    "api_secret = ''\n",
    "client = Client(api_key, api_secret)\n",
    "\n",
    "symbol = 'DOGEUSDT'\n",
    "interval = Client.KLINE_INTERVAL_1HOUR\n",
    "\n",
    "# 使用 UTC 时间\n",
    "start_time = datetime(2024, 12, 29, tzinfo=pytz.UTC)\n",
    "start_str = start_time.strftime('%Y-%m-%d %H:%M:%S')\n",
    "\n",
    "# 获取 960 条小时数据（40天）\n",
    "klines = client.get_historical_klines(\n",
    "    symbol=symbol,\n",
    "    interval=interval,\n",
    "    start_str=start_str,\n",
    "    limit=960  # 不要传 end_str\n",
    ")\n",
    "\n",
    "print(f\"klines 返回了 {len(klines)} 条数据\")\n",
    "\n",
    "df = pd.DataFrame(klines, columns=[\n",
    "    \"timestamp\", \"open\", \"high\", \"low\", \"close\", \"volume\",\n",
    "    \"close_time\", \"quote_asset_volume\", \"num_trades\",\n",
    "    \"taker_buy_base\", \"taker_buy_quote\", \"ignore\"\n",
    "])\n",
    "\n",
    "if df.empty:\n",
    "    print(\"❌ 没有获取到数据，请检查时间或交易对\")\n",
    "else:\n",
    "    df[\"timestamp\"] = pd.to_datetime(df[\"timestamp\"], unit='ms')\n",
    "    df = df[[\"timestamp\", \"open\", \"high\", \"low\", \"close\", \"volume\"]]\n",
    "    df.set_index(\"timestamp\", inplace=True)\n",
    "\n",
    "    last_date = df.index[-1].strftime(\"%Y%m%d\")\n",
    "    save_dir = \"Dogecoin_Price\"\n",
    "    os.makedirs(save_dir, exist_ok=True)\n",
    "    file_name = f\"Dogecoin_hourly_ohlcv_until_{last_date}.csv\"\n",
    "    file_path = os.path.join(save_dir, file_name)\n",
    "\n",
    "    df.to_csv(file_path)\n",
    "    print(f\"✅ 数据保存至: {file_path}\")\n",
    "    print(df.tail())\n"
   ]
  },
  {
   "cell_type": "code",
   "execution_count": 67,
   "id": "b79cd3dd",
   "metadata": {},
   "outputs": [
    {
     "name": "stdout",
     "output_type": "stream",
     "text": [
      "✅ 合并完成，文件已保存至: /home/jesse/Projects/myprojs/MT_1/01_Data_Collection/Dogecoin_Price/Dogecoin_combined_2019-07-05_to_2024-12-31.csv\n"
     ]
    }
   ],
   "source": [
    "import pandas as pd\n",
    "import glob\n",
    "import os\n",
    "\n",
    "# 设置目标目录\n",
    "folder_path = \"/home/jesse/Projects/myprojs/MT_1/01_Data_Collection/Dogecoin_Price\"\n",
    "\n",
    "# 获取所有 CSV 文件路径\n",
    "csv_files = glob.glob(os.path.join(folder_path, \"*.csv\"))\n",
    "\n",
    "# 初始化空列表用于存储数据帧\n",
    "dataframes = []\n",
    "\n",
    "# 读取每个 CSV 文件并添加到列表中\n",
    "for file in csv_files:\n",
    "    df = pd.read_csv(file)\n",
    "    dataframes.append(df)\n",
    "\n",
    "# 合并所有数据帧\n",
    "combined_df = pd.concat(dataframes, ignore_index=True)\n",
    "\n",
    "# 确保 'timestamp' 列为 datetime 类型\n",
    "combined_df['timestamp'] = pd.to_datetime(combined_df['timestamp'])\n",
    "\n",
    "# 筛选出截至 2024 年 12 月 31 日的数据\n",
    "combined_df = combined_df[combined_df['timestamp'] <= '2024-12-31']\n",
    "\n",
    "# 去除重复的时间戳记录，保留首次出现的记录\n",
    "combined_df = combined_df.drop_duplicates(subset='timestamp', keep='first')\n",
    "\n",
    "# 重置索引\n",
    "combined_df.reset_index(drop=True, inplace=True)\n",
    "\n",
    "# 保存合并后的数据到新的 CSV 文件\n",
    "output_path = os.path.join(folder_path, \"Dogecoin_combined_2019-07-05_to_2024-12-31.csv\")\n",
    "combined_df.to_csv(output_path, index=False)\n",
    "\n",
    "print(f\"✅ 合并完成，文件已保存至: {output_path}\")\n"
   ]
  }
 ],
 "metadata": {
  "kernelspec": {
   "display_name": "reddit",
   "language": "python",
   "name": "python3"
  },
  "language_info": {
   "codemirror_mode": {
    "name": "ipython",
    "version": 3
   },
   "file_extension": ".py",
   "mimetype": "text/x-python",
   "name": "python",
   "nbconvert_exporter": "python",
   "pygments_lexer": "ipython3",
   "version": "3.12.3"
  }
 },
 "nbformat": 4,
 "nbformat_minor": 5
}
