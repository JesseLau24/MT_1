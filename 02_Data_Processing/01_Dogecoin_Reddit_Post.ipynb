{
 "cells": [
  {
   "cell_type": "code",
   "execution_count": 5,
   "id": "d636d65f",
   "metadata": {},
   "outputs": [
    {
     "name": "stdout",
     "output_type": "stream",
     "text": [
      "📊 总评论数（行数）：8690113\n"
     ]
    }
   ],
   "source": [
    "import pandas as pd\n",
    "\n",
    "# 文件路径\n",
    "file_path = \"/home/jesse/Projects/myprojs/MT_1/01_Data_Collection/Dogecoin_CSV/Dogecoin_Reddit_2019-07-05_to_2024-12-31.csv\"\n",
    "\n",
    "# 加载数据\n",
    "df = pd.read_csv(file_path)\n",
    "\n",
    "# 打印总行数\n",
    "print(f\"📊 总评论数（行数）：{len(df)}\")\n"
   ]
  },
  {
   "cell_type": "code",
   "execution_count": 1,
   "id": "d7a299c2",
   "metadata": {},
   "outputs": [
    {
     "name": "stdout",
     "output_type": "stream",
     "text": [
      "📊 总评论数（行数）：498006\n"
     ]
    }
   ],
   "source": [
    "import pandas as pd\n",
    "\n",
    "# 文件路径\n",
    "file_path = \"/home/jesse/Projects/myprojs/MT_1/01_Data_Collection/Dogecoin_CSV/Dogecoin_Reddit_2023-01-01_to_2024-12-31.csv\"\n",
    "\n",
    "# 加载数据\n",
    "df = pd.read_csv(file_path)\n",
    "\n",
    "# 打印总行数\n",
    "print(f\"📊 总评论数（行数）：{len(df)}\")"
   ]
  }
 ],
 "metadata": {
  "kernelspec": {
   "display_name": "reddit",
   "language": "python",
   "name": "python3"
  },
  "language_info": {
   "codemirror_mode": {
    "name": "ipython",
    "version": 3
   },
   "file_extension": ".py",
   "mimetype": "text/x-python",
   "name": "python",
   "nbconvert_exporter": "python",
   "pygments_lexer": "ipython3",
   "version": "3.12.3"
  }
 },
 "nbformat": 4,
 "nbformat_minor": 5
}
