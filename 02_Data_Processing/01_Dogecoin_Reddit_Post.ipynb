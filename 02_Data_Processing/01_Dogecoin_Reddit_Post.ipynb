{
 "cells": [
  {
   "cell_type": "code",
   "execution_count": null,
   "id": "d636d65f",
   "metadata": {},
   "outputs": [],
   "source": [
    "import pandas as pd\n",
    "import glob\n",
    "import os\n",
    "\n",
    "# 设置目录路径\n",
    "folder_path = \"/home/jesse/Projects/myprojs/MT_1/01_Data_Collection/dogecoin_comments-till_2024\"\n",
    "\n",
    "# 获取所有 CSV 文件\n",
    "csv_files = glob.glob(os.path.join(folder_path, \"*.csv\"))\n",
    "\n",
    "# 初始化一个空列表用于存放每个文件的 DataFrame\n",
    "dataframes = []\n",
    "\n",
    "# 循环读取所有文件\n",
    "for file in csv_files:\n",
    "    df = pd.read_csv(file)\n",
    "    # 转换为 datetime 类型，强制出错为 NaT\n",
    "    df['created'] = pd.to_datetime(df['created'], errors='coerce')\n",
    "    dataframes.append(df)\n",
    "\n",
    "# 合并所有 DataFrame\n",
    "combined_df = pd.concat(dataframes, ignore_index=True)\n",
    "\n",
    "# 设定筛选的时间区间\n",
    "start_date = pd.to_datetime(\"2019-07-05\")\n",
    "end_date = pd.to_datetime(\"2024-12-31\")\n",
    "\n",
    "# 筛选时间区间内的数据\n",
    "filtered_df = combined_df[\n",
    "    (combined_df['created'] >= start_date) &\n",
    "    (combined_df['created'] <= end_date)\n",
    "]\n",
    "\n",
    "# 排序后去重（按 link 和 created）\n",
    "filtered_df.sort_values(by=\"created\", inplace=True)\n",
    "filtered_df.drop_duplicates(subset=[\"author\", \"created\"], keep=\"first\", inplace=True)\n",
    "\n",
    "\n",
    "# 重设索引\n",
    "filtered_df.reset_index(drop=True, inplace=True)\n",
    "\n",
    "# 保存结果到一个新 CSV 文件\n",
    "output_file = os.path.join(folder_path, \"dogecoin_comments_2019-07-05_to_2024-12-31_deduped.csv\")\n",
    "filtered_df.to_csv(output_file, index=False)\n",
    "\n",
    "print(f\"✅ 合并+筛选+去重完成，文件已保存至: {output_file}\")\n"
   ]
  }
 ],
 "metadata": {
  "kernelspec": {
   "display_name": "reddit",
   "language": "python",
   "name": "python3"
  },
  "language_info": {
   "codemirror_mode": {
    "name": "ipython",
    "version": 3
   },
   "file_extension": ".py",
   "mimetype": "text/x-python",
   "name": "python",
   "nbconvert_exporter": "python",
   "pygments_lexer": "ipython3",
   "version": "3.12.3"
  }
 },
 "nbformat": 4,
 "nbformat_minor": 5
}
